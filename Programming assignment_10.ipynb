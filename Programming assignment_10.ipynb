{
 "cells": [
  {
   "cell_type": "markdown",
   "id": "8710bed3",
   "metadata": {},
   "source": [
    "1.\tWrite a Python program to find sum of elements in list?"
   ]
  },
  {
   "cell_type": "code",
   "execution_count": 1,
   "id": "428533f2",
   "metadata": {},
   "outputs": [
    {
     "name": "stdout",
     "output_type": "stream",
     "text": [
      "Sum of values in the list: 58\n"
     ]
    }
   ],
   "source": [
    "\n",
    "#ANSWERS:Define a function first.\n",
    "def plus_values(lst):\n",
    "    all_adds = 0\n",
    "    for num in lst:\n",
    "        all_adds += num\n",
    "    return all_adds\n",
    " #Example:\n",
    "lst1 = [1, 2,10, 3, 4, 15,23]\n",
    "print(\"Sum of values in the list:\", plus_values(lst1))\n",
    "\n"
   ]
  },
  {
   "cell_type": "markdown",
   "id": "4ae88b70",
   "metadata": {},
   "source": [
    "2.\tWrite a Python program to  Multiply all numbers in the list?"
   ]
  },
  {
   "cell_type": "code",
   "execution_count": 3,
   "id": "25506b8a",
   "metadata": {},
   "outputs": [
    {
     "name": "stdout",
     "output_type": "stream",
     "text": [
      "multiplication of values in the list: 82800\n"
     ]
    }
   ],
   "source": [
    "# define a function\n",
    "def mult_values(lst):\n",
    "    multi = 1\n",
    "    for num in lst:\n",
    "        multi *= num\n",
    "    return multi\n",
    " #Example:\n",
    "lst1 = [1, 2,10, 3, 4, 15,23]\n",
    "print(\"multiplication of values in the list:\", mult_values(lst1))\n"
   ]
  },
  {
   "cell_type": "markdown",
   "id": "d79ba44f",
   "metadata": {},
   "source": [
    "3.\tWrite a Python program to find smallest number in a list?"
   ]
  },
  {
   "cell_type": "code",
   "execution_count": 4,
   "id": "785bf98b",
   "metadata": {},
   "outputs": [
    {
     "name": "stdout",
     "output_type": "stream",
     "text": [
      "the smallest number is: 8\n"
     ]
    }
   ],
   "source": [
    "def small_smallest(list):\n",
    "    if len(list)==0:\n",
    "        return none\n",
    "    #first element to be smallest-i initialize\n",
    "    smaller=list[0]\n",
    "    for i in list:\n",
    "        if i < smaller:\n",
    "            smaller=i\n",
    "    return smaller\n",
    "#example\n",
    "small_lst=[103,32,26,8,79,456,78,98,234,127,98,45]\n",
    "\n",
    "print('the smallest number is:' ,small_smallest(small_lst))"
   ]
  },
  {
   "cell_type": "markdown",
   "id": "d2438be5",
   "metadata": {},
   "source": [
    "4.Write a Python program to find largest number in a list?"
   ]
  },
  {
   "cell_type": "code",
   "execution_count": 7,
   "id": "d2f3a212",
   "metadata": {},
   "outputs": [
    {
     "name": "stdout",
     "output_type": "stream",
     "text": [
      "the largest number is: 456\n"
     ]
    }
   ],
   "source": [
    "def find_large(list):\n",
    "    if len(list)==0:\n",
    "        yield  none\n",
    "    #first element to largest-i initialize\n",
    "    largest=list[0]\n",
    "    for i in list:\n",
    "        if i > largest:\n",
    "            largest=i\n",
    "    yield  largest\n",
    "#example\n",
    "lst2=[103,32,26,8,79,456,78,98,234,127,98,45]\n",
    "#use of generator\n",
    "largest_gen=find_large(lst2)\n",
    "\n",
    "print('the largest number is:' ,next(largest_gen))"
   ]
  },
  {
   "cell_type": "markdown",
   "id": "20671731",
   "metadata": {},
   "source": [
    "5.Write a Python program to find second largest number in a list?"
   ]
  },
  {
   "cell_type": "code",
   "execution_count": 10,
   "id": "3f08fd20",
   "metadata": {},
   "outputs": [
    {
     "name": "stdout",
     "output_type": "stream",
     "text": [
      "the second_largest number is: 234\n"
     ]
    }
   ],
   "source": [
    "def find_second_large(lst):\n",
    "    if len(lst) < 2:\n",
    "        return None  # Return None if the list has less than two elements\n",
    "    very_large = max(lst[0], lst[1])\n",
    "    second_largest = min(lst[0], lst[1])\n",
    "    for num in lst[2:]:\n",
    "        if num > very_large:\n",
    "            second_largest =very_large\n",
    "            very_large = num\n",
    "        elif num > second_largest:\n",
    "            second_largest = num\n",
    "    return second_largest\n",
    "#example\n",
    "lst3=[103,32,26,8,79,456,78,98,234,127,98,45]\n",
    "\n",
    "print('the second_largest number is:' ,find_second_large(lst3))"
   ]
  },
  {
   "cell_type": "markdown",
   "id": "2e1c8421",
   "metadata": {},
   "source": [
    "6.\tWrite a Python program to find N largest elements from a list?"
   ]
  },
  {
   "cell_type": "code",
   "execution_count": 12,
   "id": "724cb166",
   "metadata": {},
   "outputs": [
    {
     "name": "stdout",
     "output_type": "stream",
     "text": [
      "The 4 largest elements in the list are: [456, 234, 127, 103]\n"
     ]
    }
   ],
   "source": [
    "def get_n_largest(lst, n):\n",
    "    if n > len(lst) or n < 1:\n",
    "        return None  # Return None if n is out of range or less than 1\n",
    "    # Sort the list in descending order\n",
    "    sorted_list = sorted(lst, reverse=True)  \n",
    "    # Return the first N elements\n",
    "    return sorted_list[:n]  \n",
    "\n",
    "# Example \n",
    "lst4=[103,32,26,8,79,456,78,98,234,127,98,45]\n",
    "n = 4  # Number of largest elements to find\n",
    "print(f\"The {n} largest elements in the list are:\", get_n_largest(lst4, n))\n"
   ]
  },
  {
   "cell_type": "markdown",
   "id": "19ef6b83",
   "metadata": {},
   "source": [
    "7.\tWrite a Python program to print even numbers in a list?"
   ]
  },
  {
   "cell_type": "code",
   "execution_count": 22,
   "id": "0372b013",
   "metadata": {},
   "outputs": [
    {
     "name": "stdout",
     "output_type": "stream",
     "text": [
      "Eve numbers in the list:\n",
      "32\n",
      "26\n",
      "456\n",
      "78\n",
      "234\n",
      "98\n"
     ]
    }
   ],
   "source": [
    "def even_numbers(lst):\n",
    "    eve_numbers = [num for num in lst if num % 2 == 0]\n",
    "    for num in eve_numbers:\n",
    "        print(num)\n",
    "\n",
    "# Example \n",
    "lst5=[103,32,26,81,79,456,78,983,234,127,98,45]\n",
    "print(\"Eve numbers in the list:\")\n",
    "even_numbers(lst5)\n",
    "      "
   ]
  },
  {
   "cell_type": "markdown",
   "id": "b15b3217",
   "metadata": {},
   "source": [
    "8.\tWrite a Python program to print odd numbers in a List?"
   ]
  },
  {
   "cell_type": "code",
   "execution_count": 28,
   "id": "9667d3da",
   "metadata": {},
   "outputs": [
    {
     "name": "stdout",
     "output_type": "stream",
     "text": [
      "odd numbers in the list:\n",
      "103\n",
      "81\n",
      "79\n",
      "983\n",
      "127\n",
      "45\n"
     ]
    }
   ],
   "source": [
    "def get_odd_numbers(lst):\n",
    "    odd_numbers = [num for num in lst if num % 2 != 0]\n",
    "    for num in odd_numbers:\n",
    "        print(num)\n",
    "\n",
    "# Example \n",
    "lst6=[103,32,26,81,79,456,78,983,234,127,98,45]\n",
    "print(\"odd numbers in the list:\")\n",
    "get_odd_numbers(lst6)\n",
    "      "
   ]
  },
  {
   "cell_type": "markdown",
   "id": "2f5634ce",
   "metadata": {},
   "source": [
    "9.\tWrite a Python program to Remove empty List from List?"
   ]
  },
  {
   "cell_type": "code",
   "execution_count": 31,
   "id": "ee01e6cb",
   "metadata": {},
   "outputs": [
    {
     "name": "stdout",
     "output_type": "stream",
     "text": [
      "original list: [[], 103, 32, 26, 81, 79, [], 456, 78, 983, [], 234, 127, 98, 45]\n",
      "List after removing empty lists: [103, 32, 26, 81, 79, 456, 78, 983, 234, 127, 98, 45]\n"
     ]
    }
   ],
   "source": [
    "#work on nested\\sublist\n",
    "def empty_lsts(lst):\n",
    "    return [sublist for sublist in lst if sublist]\n",
    "\n",
    "# Example usage:\n",
    "lst7=[[],103,32,26,81,79,[] ,456,78,983,[],234,127,98,45]\n",
    "print('original list:', lst7)\n",
    "my_list = empty_lsts(lst7)\n",
    "print(\"List after removing empty lists:\", my_list)"
   ]
  },
  {
   "cell_type": "markdown",
   "id": "4b7f31a1",
   "metadata": {},
   "source": [
    "10.\tWrite a Python program to Cloning or Copying a list?"
   ]
  },
  {
   "cell_type": "code",
   "execution_count": 36,
   "id": "862acc08",
   "metadata": {},
   "outputs": [
    {
     "name": "stdout",
     "output_type": "stream",
     "text": [
      "Original List: [103, 32, 26, 81, 79, 456, 78, 983, 234, 127, 98, 45]\n",
      "After Cloning: [103, 32, 26, 81, 79, 456, 78, 983, 234, 127, 98, 45]\n"
     ]
    }
   ],
   "source": [
    "# Python program to copy or clone a list\n",
    "# Using the Slice Operator\n",
    "def cloning(lst):\n",
    "    lst_copy = lst[:]\n",
    "    return lst_copy\n",
    "\n",
    "\n",
    "# Driver Code\n",
    "lst8 =[103,32,26,81,79,456,78,983,234,127,98,45]\n",
    "lst_8 = cloning(lst8)\n",
    "print(\"Original List:\", lst8)\n",
    "print(\"After Cloning:\", lst_8)\n"
   ]
  },
  {
   "cell_type": "markdown",
   "id": "a9648039",
   "metadata": {},
   "source": [
    "11.\tWrite a Python program to Count occurrences of an element in a list?"
   ]
  },
  {
   "cell_type": "code",
   "execution_count": 44,
   "id": "4f28611a",
   "metadata": {},
   "outputs": [
    {
     "name": "stdout",
     "output_type": "stream",
     "text": [
      "10 has occurred 2 times\n"
     ]
    }
   ],
   "source": [
    "# Python code to count the number of occurrences\n",
    "def count_values(lst, x):\n",
    "    count = 0\n",
    "    for ele in lst:\n",
    "        if (ele == x):\n",
    "            count = count + 1\n",
    "    return count\n",
    "\n",
    "\n",
    "# Driver Code\n",
    "lst = [4, 6, 3, 10, 8, 20, 10, 8, 81]\n",
    "x = 10\n",
    "print('{} has occurred {} times'.format(x,count_values(lst, x)))\n"
   ]
  },
  {
   "cell_type": "code",
   "execution_count": null,
   "id": "b6c307c3",
   "metadata": {},
   "outputs": [],
   "source": []
  }
 ],
 "metadata": {
  "kernelspec": {
   "display_name": "Python 3 (ipykernel)",
   "language": "python",
   "name": "python3"
  },
  "language_info": {
   "codemirror_mode": {
    "name": "ipython",
    "version": 3
   },
   "file_extension": ".py",
   "mimetype": "text/x-python",
   "name": "python",
   "nbconvert_exporter": "python",
   "pygments_lexer": "ipython3",
   "version": "3.9.16"
  }
 },
 "nbformat": 4,
 "nbformat_minor": 5
}
